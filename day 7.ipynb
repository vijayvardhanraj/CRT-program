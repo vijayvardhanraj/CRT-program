{
 "cells": [
  {
   "cell_type": "code",
   "execution_count": 1,
   "metadata": {},
   "outputs": [
    {
     "name": "stdout",
     "output_type": "stream",
     "text": [
      "['Gitam', 'python', 'Raptor', 1, 5, 'python']\n",
      "6\n",
      "['Gitam', 'python', 2019, 'Raptor', 1, 5, 'python']\n",
      "7\n",
      "['Gitam', 'python', 2019, 'Raptor', 2020, 1, 5, 'python']\n"
     ]
    }
   ],
   "source": [
    "list1=[\"Gitam\",\"python\",\"Raptor\",1,5,\"python\"];\n",
    "print(list1)\n",
    "list1.index(\"python\")\n",
    "list1.index(1)\n",
    "print(len(list1))\n",
    "list1.insert(2,2019)\n",
    "print(list1)\n",
    "print(len(list1))\n",
    "list1.insert(4,2020)\n",
    "print(list1)\n",
    "\n",
    "\n",
    "\n"
   ]
  },
  {
   "cell_type": "code",
   "execution_count": 2,
   "metadata": {},
   "outputs": [
    {
     "name": "stdout",
     "output_type": "stream",
     "text": [
      "20\n",
      "190\n"
     ]
    }
   ],
   "source": [
    "def printeven(n):\n",
    "    print(n);\n",
    "    count=0;\n",
    "    sum=0;\n",
    "    while(count!=n):\n",
    "        if(count!=n):\n",
    "            sum=sum+count;\n",
    "            count=count+1;\n",
    "    return sum;\n",
    "\n",
    "print(printeven(20));\n"
   ]
  },
  {
   "cell_type": "code",
   "execution_count": 3,
   "metadata": {},
   "outputs": [
    {
     "name": "stdout",
     "output_type": "stream",
     "text": [
      "1 2 3 4 6 "
     ]
    }
   ],
   "source": [
    "def factorslist(n):\n",
    "    i=1;\n",
    "    while(i!=n):\n",
    "        if(n%i==0):\n",
    "            print(i,end=\" \");\n",
    "        i=i+1;\n",
    "    return;\n",
    "    \n",
    "factorslist(12);"
   ]
  },
  {
   "cell_type": "code",
   "execution_count": 4,
   "metadata": {},
   "outputs": [
    {
     "name": "stdout",
     "output_type": "stream",
     "text": [
      "[1, 2, 3, 4, 5]\n",
      "1\n"
     ]
    }
   ],
   "source": [
    "list1=[1,2,3,4,5];\n",
    "#Entire List\n",
    "print(list1);\n",
    "#list[0]\n",
    "print(list1[0])"
   ]
  },
  {
   "cell_type": "code",
   "execution_count": 5,
   "metadata": {},
   "outputs": [
    {
     "name": "stdout",
     "output_type": "stream",
     "text": [
      "Sai Sri kanth Bhanu Gowtham \n",
      "['Sai', 'Sri kanth', 'Bhanu', 'Gowtham']\n"
     ]
    }
   ],
   "source": [
    "list2=[\"Sai\",\"Sri kanth\",\"Bhanu\",\"Gowtham\"];\n",
    "for x in list2:\n",
    "    print(x,end=\" \")\n",
    "    \n",
    "print();\n",
    "print(list2);"
   ]
  },
  {
   "cell_type": "code",
   "execution_count": 6,
   "metadata": {},
   "outputs": [
    {
     "name": "stdout",
     "output_type": "stream",
     "text": [
      "['Gitam', 'python', 'Raptor', 1, 5, 'python']\n",
      "6\n",
      "['Gitam', 'python', 2019, 'Raptor', 1, 5, 'python']\n",
      "7\n",
      "['Gitam', 'python', 2019, 'Raptor', 2020, 1, 5, 'python']\n"
     ]
    }
   ],
   "source": [
    "list1=[\"Gitam\",\"python\",\"Raptor\",1,5,\"python\"];\n",
    "print(list1)\n",
    "list1.index(\"python\")\n",
    "list1.index(1)\n",
    "print(len(list1))\n",
    "list1.insert(2,2019)\n",
    "print(list1)\n",
    "print(len(list1))\n",
    "list1.insert(4,2020)\n",
    "print(list1)\n"
   ]
  },
  {
   "cell_type": "code",
   "execution_count": 7,
   "metadata": {},
   "outputs": [
    {
     "name": "stdout",
     "output_type": "stream",
     "text": [
      "['Gitam', 'python', 'Raptor', 1, 5, 'python']\n",
      "['Gitam', 'Raptor', 1, 5, 'python']\n",
      "['Gitam', 'Raptor', 1, 5]\n",
      "[5, 1, 'Raptor', 'Gitam']\n"
     ]
    }
   ],
   "source": [
    "list1=[\"Gitam\",\"python\",\"Raptor\",1,5,\"python\"];\n",
    "print(list1)\n",
    "list1.remove(\"python\")\n",
    "print(list1)\n",
    "list1.remove(\"python\")\n",
    "print(list1)\n",
    "list1.reverse()\n",
    "print(list1)"
   ]
  },
  {
   "cell_type": "code",
   "execution_count": null,
   "metadata": {},
   "outputs": [],
   "source": []
  }
 ],
 "metadata": {
  "kernelspec": {
   "display_name": "Python 3",
   "language": "python",
   "name": "python3"
  },
  "language_info": {
   "codemirror_mode": {
    "name": "ipython",
    "version": 3
   },
   "file_extension": ".py",
   "mimetype": "text/x-python",
   "name": "python",
   "nbconvert_exporter": "python",
   "pygments_lexer": "ipython3",
   "version": "3.7.3"
  }
 },
 "nbformat": 4,
 "nbformat_minor": 2
}
