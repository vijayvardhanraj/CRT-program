{
 "cells": [
  {
   "cell_type": "code",
   "execution_count": 3,
   "metadata": {},
   "outputs": [
    {
     "ename": "AttributeError",
     "evalue": "module 'pandas' has no attribute 'dataframe'",
     "output_type": "error",
     "traceback": [
      "\u001b[1;31m---------------------------------------------------------------------------\u001b[0m",
      "\u001b[1;31mAttributeError\u001b[0m                            Traceback (most recent call last)",
      "\u001b[1;32m<ipython-input-3-2e53c6e649c4>\u001b[0m in \u001b[0;36m<module>\u001b[1;34m\u001b[0m\n\u001b[0;32m      4\u001b[0m       \u001b[1;34m\"mobilenumber\"\u001b[0m\u001b[1;33m:\u001b[0m\u001b[1;33m[\u001b[0m\u001b[1;34m\"888\"\u001b[0m\u001b[1;33m,\u001b[0m\u001b[1;34m\"999\"\u001b[0m\u001b[1;33m,\u001b[0m\u001b[1;34m\"7777\"\u001b[0m\u001b[1;33m,\u001b[0m\u001b[1;34m\"444\"\u001b[0m\u001b[1;33m,\u001b[0m\u001b[1;34m\"4545465\"\u001b[0m\u001b[1;33m,\u001b[0m\u001b[1;34m\"245547\"\u001b[0m\u001b[1;33m]\u001b[0m\u001b[1;33m,\u001b[0m\u001b[1;33m\u001b[0m\u001b[1;33m\u001b[0m\u001b[0m\n\u001b[0;32m      5\u001b[0m       \"addres\":[\"hyd\",\"hyd\",\"hyd\",\"hyd\"]}\n\u001b[1;32m----> 6\u001b[1;33m \u001b[0mb\u001b[0m\u001b[1;33m=\u001b[0m\u001b[0mpd\u001b[0m\u001b[1;33m.\u001b[0m\u001b[0mdataframe\u001b[0m\u001b[1;33m(\u001b[0m\u001b[0mdict\u001b[0m\u001b[1;33m)\u001b[0m\u001b[1;33m\u001b[0m\u001b[1;33m\u001b[0m\u001b[0m\n\u001b[0m\u001b[0;32m      7\u001b[0m \u001b[0mprint\u001b[0m\u001b[1;33m(\u001b[0m\u001b[0mb\u001b[0m\u001b[1;33m)\u001b[0m\u001b[1;33m\u001b[0m\u001b[1;33m\u001b[0m\u001b[0m\n",
      "\u001b[1;31mAttributeError\u001b[0m: module 'pandas' has no attribute 'dataframe'"
     ]
    }
   ],
   "source": [
    "import pandas as pd\n",
    "dict ={\"name\":[\"anil\",\"akhil\",\"dinesh\",\"harsha\",\"ajay\",\"krathi\"],\n",
    "      \"emailid\":[\"anil@gmail.com\",\"akhil@gmail.com\",\"dinesh@gmail.com\",\"harsh@gmail.com\",\"ajay@gmail.com\",\"krathi@gmail.com\"],\n",
    "      \"mobilenumber\":[\"888\",\"999\",\"7777\",\"444\",\"4545465\",\"245547\"],\n",
    "      \"addres\":[\"hyd\",\"hyd\",\"hyd\",\"hyd\"]}\n",
    "b=pd.dataframe(dict)\n",
    "print(b)"
   ]
  },
  {
   "cell_type": "code",
   "execution_count": null,
   "metadata": {},
   "outputs": [],
   "source": []
  }
 ],
 "metadata": {
  "kernelspec": {
   "display_name": "Python 3",
   "language": "python",
   "name": "python3"
  }
 },
 "nbformat": 4,
 "nbformat_minor": 2
}
