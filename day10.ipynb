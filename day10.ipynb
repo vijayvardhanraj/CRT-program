{
 "cells": [
  {
   "cell_type": "code",
   "execution_count": 7,
   "metadata": {},
   "outputs": [
    {
     "name": "stdout",
     "output_type": "stream",
     "text": [
      "file is created succesfully and data has been written\n"
     ]
    }
   ],
   "source": [
    "def createfile(filename):\n",
    "    f=open(filename,\"w\")\n",
    "    for i in range(10):\n",
    "        f.write(\"This is %d line\\n\" % i)\n",
    "    print(\"file is created succesfully and data has been written\")\n",
    "    f.close()    \n",
    "    return\n",
    "createfile(\"file1.txt\")"
   ]
  },
  {
   "cell_type": "code",
   "execution_count": 8,
   "metadata": {},
   "outputs": [
    {
     "name": "stdout",
     "output_type": "stream",
     "text": [
      "This is 0 line\n",
      "This is 1 line\n",
      "This is 2 line\n",
      "This is 3 line\n",
      "This is 4 line\n",
      "This is 5 line\n",
      "This is 6 line\n",
      "This is 7 line\n",
      "This is 8 line\n",
      "This is 9 line\n",
      "\n"
     ]
    }
   ],
   "source": [
    "def readfile(filename):\n",
    "    f=open(filename,\"r\")\n",
    "    if f.mode==\"r\":\n",
    "        x=f.read()\n",
    "        print(x)\n",
    "    f.close()\n",
    "    return\n",
    "\n",
    "readfile(\"file1.txt\")"
   ]
  },
  {
   "cell_type": "code",
   "execution_count": 10,
   "metadata": {},
   "outputs": [
    {
     "name": "stdout",
     "output_type": "stream",
     "text": [
      "150\n"
     ]
    }
   ],
   "source": [
    "#function to count of characters in the file\n",
    "def countofcharacter(filename):\n",
    "    f=open(filename,\"r\")\n",
    "    if f.mode==\"r\":\n",
    "        x=f.read()\n",
    "        lst=list(x)\n",
    "    return len(lst)\n",
    "print(countofcharacter(\"file1.txt\"))"
   ]
  },
  {
   "cell_type": "code",
   "execution_count": 18,
   "metadata": {},
   "outputs": [
    {
     "data": {
      "text/plain": [
       "1"
      ]
     },
     "execution_count": 18,
     "metadata": {},
     "output_type": "execute_result"
    }
   ],
   "source": [
    "def uppercasecount(filename):\n",
    "    cntupper=0\n",
    "    f=open(filename,\"r\")\n",
    "    if f.mode==\"r\":\n",
    "        x=f.read()\n",
    "        lst=list(x)\n",
    "    for i in lst:\n",
    "        if i.isupper():\n",
    "            cntupper=1\n",
    "    return cntupper \n",
    "uppercasecount(\"file1.txt\")\n",
    " "
   ]
  },
  {
   "cell_type": "code",
   "execution_count": 20,
   "metadata": {},
   "outputs": [
    {
     "data": {
      "text/plain": [
       "11"
      ]
     },
     "execution_count": 20,
     "metadata": {},
     "output_type": "execute_result"
    }
   ],
   "source": [
    "def countlines(filename):\n",
    "    f=open(filename,\"r\")\n",
    "    if f.mode==\"r\":\n",
    "        x=f.read()\n",
    "        lst=x.split(\"\\n\")\n",
    "    return len(lst)\n",
    "countlines(\"file1.txt\")"
   ]
  },
  {
   "cell_type": "code",
   "execution_count": 23,
   "metadata": {},
   "outputs": [
    {
     "name": "stdout",
     "output_type": "stream",
     "text": [
      "True\n",
      "False\n"
     ]
    }
   ],
   "source": [
    "import re\n",
    "def phonenumbervaidate(phone):\n",
    "    pattern='^[6-9][0-9]{9}$'\n",
    "    phone=str(phone)\n",
    "    if re.match(pattern,phone):\n",
    "        return True\n",
    "    return False\n",
    "print( phonenumbervaidate(8888888888))\n",
    "print( phonenumbervaidate(965412381))\n"
   ]
  },
  {
   "cell_type": "code",
   "execution_count": 25,
   "metadata": {},
   "outputs": [
    {
     "name": "stdout",
     "output_type": "stream",
     "text": [
      "True\n",
      "False\n",
      "False\n"
     ]
    }
   ],
   "source": [
    "import re\n",
    "def phonenumbervalidate(phone):\n",
    "    pattern='^[6-9][0-9]{9}$|^[0][6-9][0-9]{9}$|[+][9][1][6-9][0-9]{9}$'\n",
    "    phone=str(phone)\n",
    "    if re.match(pattern,phone):\n",
    "        return True\n",
    "    return False\n",
    "print(phonenumbervalidate(9966338855))\n",
    "print(phonenumbervalidate(99668855))\n",
    "print(phonenumbervalidate(+919966338855))"
   ]
  },
  {
   "cell_type": "code",
   "execution_count": 26,
   "metadata": {},
   "outputs": [
    {
     "name": "stdout",
     "output_type": "stream",
     "text": [
      "True\n",
      "True\n",
      "False\n"
     ]
    }
   ],
   "source": [
    "\n",
    "\n",
    "import re\n",
    "def RollNumberValidate(roll):\n",
    "    pattern='^[1][5][2][U][1][A][0][1-9][0-6][0-9]$'\n",
    "    roll=str(roll)\n",
    "    if re.match(pattern,roll):\n",
    "        return True\n",
    "    return False\n",
    "print(RollNumberValidate(\"152U1A0249\"))\n",
    "print(RollNumberValidate(\"152U1A0359\"))\n",
    "print(RollNumberValidate(\"152U1A0379\"))\n",
    "\n"
   ]
  },
  {
   "cell_type": "code",
   "execution_count": 28,
   "metadata": {},
   "outputs": [
    {
     "name": "stdout",
     "output_type": "stream",
     "text": [
      "True\n",
      "False\n"
     ]
    }
   ],
   "source": [
    "import re\n",
    "def validateEmailID(email):\n",
    "    pattern='^[0-9a-z][0-9a-z_.]{4,13}[0-9a-z][@][a-z0-9]{3,18}[.][a-z]{2,4}$'\n",
    "    if re.match(pattern,email):\n",
    "        return True\n",
    "    return False\n",
    "print(validateEmailID(\"surya12@gmail.com\"))\n",
    "print(validateEmailID(\"$srikanth3@gmail.com\"))"
   ]
  },
  {
   "cell_type": "code",
   "execution_count": 1,
   "metadata": {},
   "outputs": [
    {
     "name": "stdout",
     "output_type": "stream",
     "text": [
      "The file is created and data is stored Successfully\n"
     ]
    }
   ],
   "source": [
    "def createfile(filename):\n",
    "    f=open(filename,\"w\")\n",
    "    for i in range(10):\n",
    "        f.write(\" This is %d line \\n\" % i)\n",
    "    print(\"The file is created and data is stored Successfully\")\n",
    "    f.close()\n",
    "    return\n",
    "createfile(\"chinmay.txt\")"
   ]
  },
  {
   "cell_type": "code",
   "execution_count": 4,
   "metadata": {},
   "outputs": [
    {
     "name": "stdout",
     "output_type": "stream",
     "text": [
      "104\n"
     ]
    }
   ],
   "source": [
    "\n",
    "def countsmall(filename):\n",
    "    countlower=0\n",
    "    f=open(filename)\n",
    "    if f.mode==\"r\": \n",
    "        x=f.read()\n",
    "        lst=list(x)\n",
    "    for i in lst:\n",
    "        if i.islower():\n",
    "            countlower +=1\n",
    "    return countlower\n",
    "    \n",
    "print(countsmall(\"chinmay.txt\"))"
   ]
  },
  {
   "cell_type": "code",
   "execution_count": 5,
   "metadata": {},
   "outputs": [
    {
     "name": "stdout",
     "output_type": "stream",
     "text": [
      "11\n"
     ]
    }
   ],
   "source": [
    "\n",
    "\n",
    "\n",
    "def countdigits(filename):\n",
    "    c=0\n",
    "    f=open(filename,\"r\")\n",
    "    if f.mode==\"r\":\n",
    "        x=f.read()\n",
    "        lst=list(x)\n",
    "    for i in lst:\n",
    "        if i.isnumeric():\n",
    "            c+=1\n",
    "    return c\n",
    "print(countdigits(\"chinmay.txt\"))"
   ]
  },
  {
   "cell_type": "code",
   "execution_count": 6,
   "metadata": {},
   "outputs": [
    {
     "name": "stdout",
     "output_type": "stream",
     "text": [
      "1\n"
     ]
    }
   ],
   "source": [
    "\n",
    "def countspecial(str):\n",
    "    count=0\n",
    "    \n",
    "    lst=list(str)\n",
    "    for x in range(len(lst)):\n",
    "        if ord(lst[x])>=32 and ord(lst[x])<=47:\n",
    "            count=count+1\n",
    "    return count\n",
    "\n",
    "print(countspecial(\"chinmay.txt\"))"
   ]
  },
  {
   "cell_type": "code",
   "execution_count": null,
   "metadata": {},
   "outputs": [],
   "source": []
  }
 ],
 "metadata": {
  "kernelspec": {
   "display_name": "Python 3",
   "language": "python",
   "name": "python3"
  },
  "language_info": {
   "codemirror_mode": {
    "name": "ipython",
    "version": 3
   },
   "file_extension": ".py",
   "mimetype": "text/x-python",
   "name": "python",
   "nbconvert_exporter": "python",
   "pygments_lexer": "ipython3",
   "version": "3.7.3"
  }
 },
 "nbformat": 4,
 "nbformat_minor": 2
}
