{
 "cells": [
  {
   "cell_type": "code",
   "execution_count": 1,
   "metadata": {},
   "outputs": [
    {
     "name": "stdout",
     "output_type": "stream",
     "text": [
      "True\n",
      "False\n"
     ]
    }
   ],
   "source": [
    "\n",
    "s=\"python\"\n",
    "s1=\"A\"\n",
    "print(s.islower())\n",
    "print(s1.islower())"
   ]
  },
  {
   "cell_type": "code",
   "execution_count": 2,
   "metadata": {},
   "outputs": [
    {
     "name": "stdout",
     "output_type": "stream",
     "text": [
      "1 4 5 6 9 "
     ]
    }
   ],
   "source": [
    "def numbertolistconversion(n):\n",
    "    for i in range(len(a)):\n",
    "        if i>=0:\n",
    "            print(a[i],end=\" \");\n",
    "a=[1,4,5,6,9]\n",
    "numbertolistconversion(a)"
   ]
  },
  {
   "cell_type": "code",
   "execution_count": 3,
   "metadata": {},
   "outputs": [
    {
     "name": "stdout",
     "output_type": "stream",
     "text": [
      "PYTHON\n",
      "python\n"
     ]
    }
   ],
   "source": [
    "str=\"python\"\n",
    "print(str.upper())\n",
    "print(str.lower())"
   ]
  },
  {
   "cell_type": "code",
   "execution_count": 4,
   "metadata": {},
   "outputs": [
    {
     "name": "stdout",
     "output_type": "stream",
     "text": [
      "False\n",
      "True\n"
     ]
    }
   ],
   "source": [
    "s=\"python programming\"\n",
    "s1=\"Python Programming\"\n",
    "print(s.istitle())\n",
    "print(s1.istitle())"
   ]
  },
  {
   "cell_type": "code",
   "execution_count": 5,
   "metadata": {},
   "outputs": [
    {
     "name": "stdout",
     "output_type": "stream",
     "text": [
      "False\n",
      "True\n"
     ]
    }
   ],
   "source": [
    "s=\"python\"\n",
    "s1=\"1524\"\n",
    "print(s.isnumeric())\n",
    "print(s1.isnumeric())"
   ]
  },
  {
   "cell_type": "code",
   "execution_count": 6,
   "metadata": {},
   "outputs": [
    {
     "name": "stdout",
     "output_type": "stream",
     "text": [
      "True\n",
      "False\n"
     ]
    }
   ],
   "source": [
    "s=\"python\"\n",
    "s1=\"py1524\"\n",
    "print(s.isalpha())\n",
    "print(s1.isalpha())"
   ]
  },
  {
   "cell_type": "code",
   "execution_count": 12,
   "metadata": {},
   "outputs": [
    {
     "name": "stdout",
     "output_type": "stream",
     "text": [
      "p0y0t0h0o0n\n"
     ]
    }
   ],
   "source": [
    "str = \"python\"\n",
    "print(\"0\".join(str))"
   ]
  },
  {
   "cell_type": "code",
   "execution_count": 23,
   "metadata": {},
   "outputs": [
    {
     "name": "stdout",
     "output_type": "stream",
     "text": [
      "python\n"
     ]
    }
   ],
   "source": [
    "str = \"p0y0t0h0o0n\"\n",
    "print(str.replace(\"0\",\"\"))"
   ]
  },
  {
   "cell_type": "code",
   "execution_count": 9,
   "metadata": {},
   "outputs": [
    {
     "name": "stdout",
     "output_type": "stream",
     "text": [
      "['python', 'programing', 'is', 'easy', 'to', 'learn']\n",
      "2\n"
     ]
    }
   ],
   "source": [
    "s=\"python programing is easy to learn\"\n",
    "lst=s.split()\n",
    "print(lst)\n",
    "print(lst.index(\"is\"))"
   ]
  },
  {
   "cell_type": "code",
   "execution_count": 10,
   "metadata": {},
   "outputs": [
    {
     "name": "stdout",
     "output_type": "stream",
     "text": [
      "['python', 'programing', 'is', 'easy', 'to', 'learn']\n",
      "['python progr', 'ming is e', 'sy to le', 'rn']\n",
      "['python programing is easy to learn']\n"
     ]
    }
   ],
   "source": [
    "s=\"python programing is easy to learn\"\n",
    "print(s.split())\n",
    "print(s.split(\"a\"))\n",
    "print(s.split(\" ,\"))\n"
   ]
  },
  {
   "cell_type": "code",
   "execution_count": 24,
   "metadata": {},
   "outputs": [
    {
     "name": "stdout",
     "output_type": "stream",
     "text": [
      "('python', 'programming', 1989, 2019, 'machine', 'learniong', 'A1')\n",
      "(1, 2, 3, 4, 5)\n"
     ]
    }
   ],
   "source": [
    "t1=(\"python\",\"programming\",1989,2019,\"machine\",\"learniong\",\"A1\")\n",
    "t2=(1,2,3,4,5)\n",
    "print(t1)\n",
    "print(t2)"
   ]
  },
  {
   "cell_type": "code",
   "execution_count": 25,
   "metadata": {},
   "outputs": [
    {
     "name": "stdout",
     "output_type": "stream",
     "text": [
      "t1[0]= python\n",
      "t1[2]= 1989\n",
      "t1[-1]= A1\n",
      "t1[1:4]= ('programming', 1989, 2019)\n",
      "t1[2:-2]= (1989, 2019, 'machine')\n"
     ]
    }
   ],
   "source": [
    "t1=(\"python\",\"programming\",1989,2019,\"machine\",\"learniong\",\"A1\")\n",
    "print(\"t1[0]=\",t1[0])\n",
    "print(\"t1[2]=\",t1[2])\n",
    "print(\"t1[-1]=\",t1[-1])\n",
    "print(\"t1[1:4]=\",t1[1:4])\n",
    "print(\"t1[2:-2]=\",t1[2:-2])\n"
   ]
  },
  {
   "cell_type": "code",
   "execution_count": 28,
   "metadata": {},
   "outputs": [
    {
     "name": "stdout",
     "output_type": "stream",
     "text": [
      "('python', 'programming', 1989, 2019, 'machine', 'learniong', 'A1')\n",
      "('python', 'programming', 1989, 2019, 'machine', 'learniong', 'A1', 'python', 'programming', 1989, 2019, 'machine', 'learniong', 'A1')\n"
     ]
    }
   ],
   "source": [
    "t1=(\"python\",\"programming\",1989,2019,\"machine\",\"learniong\",\"A1\")\n",
    "t2=(\"python\",\"programming\",1989,2019,\"machine\",\"learniong\",\"A1\")\n",
    "print(t1)\n",
    "\n",
    "print(t1+t2)"
   ]
  },
  {
   "cell_type": "code",
   "execution_count": 29,
   "metadata": {},
   "outputs": [
    {
     "name": "stdout",
     "output_type": "stream",
     "text": [
      "('python', 'programming', 1989, 20109, 'machine learning', 'AI')\n"
     ]
    }
   ],
   "source": [
    "\n",
    "list1=[\"python\",\"programming\",1989,20109,\"machine learning\",\"AI\"]\n",
    "t1=tuple(list1)\n",
    "print(t1)\n",
    "\n"
   ]
  },
  {
   "cell_type": "code",
   "execution_count": 30,
   "metadata": {},
   "outputs": [
    {
     "name": "stdout",
     "output_type": "stream",
     "text": [
      "user1[name]= Python\n",
      "user1[age]= 29\n"
     ]
    }
   ],
   "source": [
    "\n",
    "\n",
    "user1={\"name\":\"Python\",\"age\":29,\"emailid\":\"gmail.com\",\"mobileno\":8888888888}\n",
    "print(\"user1[name]=\",user1[\"name\"])\n",
    "print(\"user1[age]=\",user1[\"age\"])\n",
    "\n"
   ]
  },
  {
   "cell_type": "code",
   "execution_count": 31,
   "metadata": {},
   "outputs": [
    {
     "name": "stdout",
     "output_type": "stream",
     "text": [
      "user1[emailid]= gmail.com\n",
      "user1[emailid]= 123gmail.com\n"
     ]
    }
   ],
   "source": [
    "user1={\"name\":\"Python\",\"age\":29,\"emailid\":\"gmail.com\",\"mobileno\":8888888888}\n",
    "print(\"user1[emailid]=\",user1[\"emailid\"])\n",
    "user1[\"emailid\"]=\"123gmail.com\"\n",
    "print(\"user1[emailid]=\",user1[\"emailid\"])\n"
   ]
  },
  {
   "cell_type": "code",
   "execution_count": 32,
   "metadata": {},
   "outputs": [
    {
     "name": "stdout",
     "output_type": "stream",
     "text": [
      "{'name': 'Python', 'age': 29, 'emailid': 'gmail.com', 'mobileno': 8888888888}\n",
      "{'name': 'Python', 'age': 29, 'emailid': 'gmail.com', 'mobileno': 8888888888, 'Adress': 'Hyderabad'}\n"
     ]
    }
   ],
   "source": [
    "\n",
    "user1={\"name\":\"Python\",\"age\":29,\"emailid\":\"gmail.com\",\"mobileno\":8888888888}\n",
    "print(user1)\n",
    "user1[\"Adress\"]=\"Hyderabad\"\n",
    "print(user1)\n",
    "\n"
   ]
  },
  {
   "cell_type": "code",
   "execution_count": 33,
   "metadata": {},
   "outputs": [
    {
     "name": "stdout",
     "output_type": "stream",
     "text": [
      "dict_values(['Python', 29, 'gmail.com', 8888888888])\n",
      "dict_values(['Python', 29, 'gmail.com', 8888888888])\n",
      "dict_items([('name', 'Python'), ('age', 29), ('emailid', 'gmail.com'), ('mobileno', 8888888888)])\n"
     ]
    }
   ],
   "source": [
    "\n",
    "user1={\"name\":\"Python\",\"age\":29,\"emailid\":\"gmail.com\",\"mobileno\":8888888888}\n",
    "user2=user1.copy()\n",
    "print(user1.values())\n",
    "print(user2.values())\n",
    "print(user1.items())\n",
    "\n"
   ]
  },
  {
   "cell_type": "code",
   "execution_count": 34,
   "metadata": {},
   "outputs": [
    {
     "name": "stdout",
     "output_type": "stream",
     "text": [
      "Python programming\n"
     ]
    }
   ],
   "source": [
    "\n",
    "lst=[\"Python\",\"programming\"]\n",
    "print(\"%s %s\" %(lst[0],lst[1]))\n",
    "\n"
   ]
  },
  {
   "cell_type": "code",
   "execution_count": 37,
   "metadata": {},
   "outputs": [
    {
     "name": "stdout",
     "output_type": "stream",
     "text": [
      "contact anil added\n",
      "contact harsha added\n",
      "contact anil already exists\n"
     ]
    }
   ],
   "source": [
    "contacts={}\n",
    "def addcontact(name,phone):\n",
    "    if name not in contacts:\n",
    "        contacts[name]=phone\n",
    "        print(\"contact %s added\"%name)\n",
    "    else:\n",
    "        print(\"contact %s already exists\"% name)\n",
    "    return\n",
    "addcontact(\"anil\",95137521)\n",
    "addcontact(\"harsha\",9958645255)\n",
    "addcontact(\"anil\",95137522851)"
   ]
  },
  {
   "cell_type": "code",
   "execution_count": 38,
   "metadata": {},
   "outputs": [
    {
     "name": "stdout",
     "output_type": "stream",
     "text": [
      "anil  :  95137521\n",
      "ajay does not exits \n",
      "kranthi does not exits \n"
     ]
    }
   ],
   "source": [
    "def searchcontact(name):\n",
    "    if name in contacts:\n",
    "        print(name,\" : \", contacts[name])\n",
    "    else:\n",
    "        print(\"%s does not exits \"% name)\n",
    "    return \n",
    "searchcontact(\"anil\")\n",
    "searchcontact(\"ajay\")\n",
    "searchcontact(\"kranthi\")"
   ]
  },
  {
   "cell_type": "code",
   "execution_count": 40,
   "metadata": {},
   "outputs": [
    {
     "name": "stdout",
     "output_type": "stream",
     "text": [
      "2 contacts added successfull\n"
     ]
    }
   ],
   "source": [
    "def importcontacts(newcontacts):\n",
    "    contacts.update(newcontacts)\n",
    "    print(len(newcontacts.keys()),\"contacts added successfull\")\n",
    "    return\n",
    "newcontacts = {'dinesh':9955112233,'ajay':9988774455}\n",
    "importcontacts(newcontacts)\n"
   ]
  },
  {
   "cell_type": "code",
   "execution_count": 44,
   "metadata": {},
   "outputs": [
    {
     "name": "stdout",
     "output_type": "stream",
     "text": [
      "harsha  : is deleted from the copntacts\n",
      "naveen  : is not exist in  the contacts\n"
     ]
    }
   ],
   "source": [
    "def deletecontact(name):\n",
    "    if name in contacts:\n",
    "        del contacts[name]\n",
    "        print(name,\" : is deleted from the copntacts\")\n",
    "    else:\n",
    "        print(name,\" : is not exist in  the contacts\")  \n",
    "    return\n",
    "\n",
    "deletecontact(\"harsha\")\n",
    "deletecontact(\"naveen\")"
   ]
  },
  {
   "cell_type": "code",
   "execution_count": 46,
   "metadata": {},
   "outputs": [
    {
     "name": "stdout",
     "output_type": "stream",
     "text": [
      "105 38 43 19 37 93 45 80 98 32 "
     ]
    }
   ],
   "source": [
    "import random\n",
    "def generaterandomnumbers(n,lb,ub):\n",
    "    for i in range(0,n):\n",
    "        print(random.randint(lb,ub),end=\" \")\n",
    "    return\n",
    "generaterandomnumbers(10,12,120)"
   ]
  },
  {
   "cell_type": "code",
   "execution_count": 47,
   "metadata": {},
   "outputs": [
    {
     "name": "stdout",
     "output_type": "stream",
     "text": [
      "Maximum of 4,12,43.3,19 and 100 is : 100\n"
     ]
    }
   ],
   "source": [
    "print(\"Maximum of 4,12,43.3,19 and 100 is : \",end=\"\") \n",
    "print (max( 4,12,43.3,19,100 )) \n",
    "\n"
   ]
  },
  {
   "cell_type": "code",
   "execution_count": 48,
   "metadata": {},
   "outputs": [
    {
     "name": "stdout",
     "output_type": "stream",
     "text": [
      "Manimum of 4,12,43.3,19 and 100 is : 4\n"
     ]
    }
   ],
   "source": [
    "print(\"Manimum of 4,12,43.3,19 and 100 is : \",end=\"\") \n",
    "print (min( 4,12,43.3,19,100 ) )\n",
    "\n",
    "\n"
   ]
  },
  {
   "cell_type": "code",
   "execution_count": null,
   "metadata": {},
   "outputs": [],
   "source": []
  }
 ],
 "metadata": {
  "kernelspec": {
   "display_name": "Python 3",
   "language": "python",
   "name": "python3"
  },
  "language_info": {
   "codemirror_mode": {
    "name": "ipython",
    "version": 3
   },
   "file_extension": ".py",
   "mimetype": "text/x-python",
   "name": "python",
   "nbconvert_exporter": "python",
   "pygments_lexer": "ipython3",
   "version": "3.7.3"
  }
 },
 "nbformat": 4,
 "nbformat_minor": 2
}
