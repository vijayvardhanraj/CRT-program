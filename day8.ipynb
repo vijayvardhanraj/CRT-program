{
 "cells": [
  {
   "cell_type": "code",
   "execution_count": 7,
   "metadata": {},
   "outputs": [
    {
     "name": "stdout",
     "output_type": "stream",
     "text": [
      "item is  found\n"
     ]
    }
   ],
   "source": [
    "def binarysearch(a,lindex,rindex,taritem):\n",
    "    while lindex<=rindex:\n",
    "        mindex=lindex+(rindex-lindex)//2;\n",
    "        if a[mindex]==taritem :\n",
    "            return mindex\n",
    "        if a[mindex]>taritem:\n",
    "            rindex=mindex-1\n",
    "        else:\n",
    "            lindex=mindex+1\n",
    "    return -1\n",
    "list1=[1,4,9,15,25,45,57,88,98]\n",
    "res =binarysearch(list1,0,8,4)\n",
    "if res!=-1:\n",
    "    print(\"item is  found\")\n",
    "else:\n",
    "    print(\"item is not found\")"
   ]
  },
  {
   "cell_type": "code",
   "execution_count": 1,
   "metadata": {},
   "outputs": [
    {
     "name": "stdout",
     "output_type": "stream",
     "text": [
      "1 3 18 19 25 "
     ]
    }
   ],
   "source": [
    "def bubblesort(a):\n",
    "    for i in range(len(a)-1):\n",
    "        for j in range(len(a)-1):\n",
    "            if a[j]>a[j+1]:\n",
    "                a[j],a[j+1]=a[j+1],a[j]\n",
    "            \n",
    "    for i in range(len(a)):\n",
    "        print(a[i],end=\" \")\n",
    "        \n",
    "list1=[19,25,1,18,3]\n",
    "bubblesort(list1)"
   ]
  },
  {
   "cell_type": "code",
   "execution_count": 2,
   "metadata": {},
   "outputs": [
    {
     "name": "stdout",
     "output_type": "stream",
     "text": [
      "[3, 5, 6, 10, 12]\n"
     ]
    }
   ],
   "source": [
    "list1=[10,12,3,5,6]\n",
    "list1.sort()\n",
    "print(list1)"
   ]
  },
  {
   "cell_type": "code",
   "execution_count": 3,
   "metadata": {},
   "outputs": [
    {
     "name": "stdout",
     "output_type": "stream",
     "text": [
      "appiction\n",
      "application\n"
     ]
    }
   ],
   "source": [
    "# creating a string\n",
    "str =\"appiction\"\n",
    "print(str)\n",
    "str1 ='application'\n",
    "print(str1)"
   ]
  },
  {
   "cell_type": "code",
   "execution_count": 7,
   "metadata": {},
   "outputs": [
    {
     "name": "stdout",
     "output_type": "stream",
     "text": [
      "appiction\n",
      "str[0]= a\n",
      "str[1]= p\n",
      "str[-1]= n\n",
      "str[-3]= i\n",
      "str[1:5]= ppic\n",
      "str[:5]= appic\n",
      "str[5:-2]= ti\n",
      "str[::-1]= noitcippa\n"
     ]
    }
   ],
   "source": [
    "# creating a string\n",
    "str =\"appiction\"\n",
    "print(str)\n",
    "print(\"str[0]=\",str[0])\n",
    "print(\"str[1]=\",str[1])\n",
    "print(\"str[-1]=\",str[-1])\n",
    "print(\"str[-3]=\",str[-3])\n",
    "print(\"str[1:5]=\",str[1:5])\n",
    "print(\"str[:5]=\",str[:5])\n",
    "print(\"str[5:-2]=\",str[5:-2])\n",
    "print(\"str[::-1]=\",str[::-1])"
   ]
  },
  {
   "cell_type": "code",
   "execution_count": 8,
   "metadata": {},
   "outputs": [
    {
     "data": {
      "text/plain": [
       "11"
      ]
     },
     "execution_count": 8,
     "metadata": {},
     "output_type": "execute_result"
    }
   ],
   "source": [
    "def countofchars(str):\n",
    "           return len(str)\n",
    "countofchars(\"application\")"
   ]
  },
  {
   "cell_type": "code",
   "execution_count": 10,
   "metadata": {},
   "outputs": [
    {
     "name": "stdout",
     "output_type": "stream",
     "text": [
      "0\n",
      "0\n"
     ]
    }
   ],
   "source": [
    "def countuppercase(str):\n",
    "    count=0\n",
    "    return count\n",
    "print(countuppercase(\"Application \"))\n",
    "print(countuppercase(\"tesT\"))"
   ]
  },
  {
   "cell_type": "code",
   "execution_count": 21,
   "metadata": {},
   "outputs": [
    {
     "name": "stdout",
     "output_type": "stream",
     "text": [
      "3\n",
      "2\n"
     ]
    }
   ],
   "source": [
    "def countuppercase(str):\n",
    "    count=0\n",
    "    lst=list(str)\n",
    "    for x in range(len(lst)):\n",
    "        if ord(lst[x])>=65 and ord(lst[x])<=90:\n",
    "            count=count+1\n",
    "    return count\n",
    "print(countuppercase(\"AAApplication\"))\n",
    "print(countuppercase(\"tesGGt\"))"
   ]
  },
  {
   "cell_type": "code",
   "execution_count": 25,
   "metadata": {},
   "outputs": [
    {
     "name": "stdout",
     "output_type": "stream",
     "text": [
      "1889None\n"
     ]
    }
   ],
   "source": [
    "def printdigits(str):\n",
    "    lst=list(str)\n",
    "    for x in range(len(lst)):\n",
    "        if ord(lst[x])>=48 and ord(lst[x])<=57:\n",
    "            print(lst[x],end=\"\")\n",
    "    \n",
    "print(printdigits(\"applicationA1889\"))#1889"
   ]
  },
  {
   "cell_type": "code",
   "execution_count": 26,
   "metadata": {},
   "outputs": [
    {
     "data": {
      "text/plain": [
       "26"
      ]
     },
     "execution_count": 26,
     "metadata": {},
     "output_type": "execute_result"
    }
   ],
   "source": [
    "def sumofdigits(str):\n",
    "    sum=0\n",
    "    lst=list(str)\n",
    "    for x in range(len(lst)):\n",
    "        if ord(lst[x])>=48 and ord(lst[x])<=57:\n",
    "            sum=sum+ord(lst[x])-48;\n",
    "            \n",
    "    return sum\n",
    "sumofdigits(\"applications1889\")"
   ]
  },
  {
   "cell_type": "code",
   "execution_count": 30,
   "metadata": {},
   "outputs": [
    {
     "name": "stdout",
     "output_type": "stream",
     "text": [
      "16\n"
     ]
    }
   ],
   "source": [
    "def sumonlyevendigits(str):\n",
    "    sum=0\n",
    "    lst=list(str)\n",
    "    for x in range(len(lst)):\n",
    "        if ord(lst[x])>=48 and ord(lst[x])<=57:\n",
    "            if(ord(lst[x])%2==0):\n",
    "                sum=sum+ord(lst[x])-48;\n",
    "            \n",
    "    return sum\n",
    "print(sumonlyevendigits(\"applications1889\"))\n"
   ]
  },
  {
   "cell_type": "code",
   "execution_count": null,
   "metadata": {},
   "outputs": [],
   "source": [
    "def caseconversion(str,n):\n",
    "    return\n",
    "\n",
    "\n",
    "specificword(\"application\",2)\n",
    "\n"
   ]
  }
 ],
 "metadata": {
  "kernelspec": {
   "display_name": "Python 3",
   "language": "python",
   "name": "python3"
  },
  "language_info": {
   "codemirror_mode": {
    "name": "ipython",
    "version": 3
   },
   "file_extension": ".py",
   "mimetype": "text/x-python",
   "name": "python",
   "nbconvert_exporter": "python",
   "pygments_lexer": "ipython3",
   "version": "3.7.3"
  }
 },
 "nbformat": 4,
 "nbformat_minor": 2
}
