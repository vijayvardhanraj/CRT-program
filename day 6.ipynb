{
 "cells": [
  {
   "cell_type": "code",
   "execution_count": 1,
   "metadata": {},
   "outputs": [
    {
     "name": "stdout",
     "output_type": "stream",
     "text": [
      "Hello good afternoon\n"
     ]
    }
   ],
   "source": [
    "x=10;\n",
    "if(x>15):\n",
    "    print(\"Hello good morning \");\n",
    "else:\n",
    "    print(\"Hello good afternoon\");\n"
   ]
  },
  {
   "cell_type": "code",
   "execution_count": 2,
   "metadata": {},
   "outputs": [
    {
     "name": "stdout",
     "output_type": "stream",
     "text": [
      "y is greater number\n"
     ]
    }
   ],
   "source": [
    "x=10;\n",
    "y=15;\n",
    "if(x>y):\n",
    "    print(\"x is greater number\");\n",
    "else:\n",
    "    print(\"y is greater number\");\n",
    "\n"
   ]
  },
  {
   "cell_type": "code",
   "execution_count": 3,
   "metadata": {},
   "outputs": [
    {
     "name": "stdout",
     "output_type": "stream",
     "text": [
      "25\n"
     ]
    }
   ],
   "source": [
    "x=5;\n",
    "y=5;\n",
    "if(x==y):\n",
    "    print(x*x)\n",
    "else:\n",
    "    print(x*y)"
   ]
  },
  {
   "cell_type": "code",
   "execution_count": 4,
   "metadata": {},
   "outputs": [
    {
     "name": "stdout",
     "output_type": "stream",
     "text": [
      "it's zero\n"
     ]
    }
   ],
   "source": [
    "x=0\n",
    "if(x<0):\n",
    "    print(\"it's a negative number\");\n",
    "elif(x>0):\n",
    "    print(\"it's a positive number\");\n",
    "elif(x==0):\n",
    "    print(\"it's zero\");\n"
   ]
  },
  {
   "cell_type": "code",
   "execution_count": 5,
   "metadata": {},
   "outputs": [
    {
     "name": "stdout",
     "output_type": "stream",
     "text": [
      "1\n",
      "2\n",
      "3\n",
      "4\n",
      "5\n",
      "6\n",
      "7\n",
      "8\n",
      "9\n",
      "10\n"
     ]
    }
   ],
   "source": [
    "n=1;\n",
    "while(n<=10):\n",
    "  print(n);\n",
    "  n=n+1;\n"
   ]
  },
  {
   "cell_type": "code",
   "execution_count": 6,
   "metadata": {},
   "outputs": [
    {
     "name": "stdout",
     "output_type": "stream",
     "text": [
      "10\n",
      "9\n",
      "8\n",
      "7\n",
      "6\n",
      "5\n",
      "4\n",
      "3\n",
      "2\n",
      "1\n"
     ]
    }
   ],
   "source": [
    "n=10;\n",
    "while(n>=1):\n",
    "    print(n);\n",
    "    n=n-1;\n"
   ]
  },
  {
   "cell_type": "code",
   "execution_count": 7,
   "metadata": {},
   "outputs": [
    {
     "name": "stdout",
     "output_type": "stream",
     "text": [
      "-22\n",
      "-23\n",
      "-24\n",
      "-25\n",
      "-26\n",
      "-27\n",
      "-28\n",
      "-29\n",
      "-30\n",
      "-31\n",
      "-32\n",
      "-33\n",
      "-34\n",
      "-35\n",
      "-36\n",
      "-37\n",
      "-38\n",
      "-39\n",
      "-40\n",
      "-41\n",
      "-42\n",
      "-43\n",
      "-44\n",
      "-45\n"
     ]
    }
   ],
   "source": [
    "x=-22;\n",
    "while(x>=-45):\n",
    "    print(x);\n",
    "    x=x-1;\n"
   ]
  },
  {
   "cell_type": "code",
   "execution_count": 8,
   "metadata": {},
   "outputs": [
    {
     "name": "stdout",
     "output_type": "stream",
     "text": [
      "enter lower limit5\n",
      "enter upper limit5\n",
      "0\n"
     ]
    }
   ],
   "source": [
    "x=int(input(\"enter lower limit\"));\n",
    "y=int(input(\"enter upper limit\"));\n",
    "sum=0;\n",
    "while(x!=y):\n",
    "    if(x%2==0):\n",
    "        sum=sum+x;\n",
    "    x=x+1;\n",
    "    \n",
    "print(sum);\n"
   ]
  },
  {
   "cell_type": "code",
   "execution_count": 1,
   "metadata": {},
   "outputs": [
    {
     "name": "stdout",
     "output_type": "stream",
     "text": [
      "enter the number2589863\n",
      "3\n",
      "6\n",
      "8\n",
      "9\n",
      "8\n",
      "5\n",
      "2\n"
     ]
    }
   ],
   "source": [
    "x=int(input(\"enter the number\"))\n",
    "while(x>0):\n",
    "    r=x%10;\n",
    "    print(r);\n",
    "    x=x//10;\n",
    "\n"
   ]
  },
  {
   "cell_type": "code",
   "execution_count": 6,
   "metadata": {},
   "outputs": [
    {
     "name": "stdout",
     "output_type": "stream",
     "text": [
      "enter the number25\n",
      "2\n"
     ]
    }
   ],
   "source": [
    "x=int(input(\"enter the number\"))\n",
    "sum=0;\n",
    "while(x!=0):\n",
    "    r=x%10;\n",
    "    if(r%2==0):\n",
    "        sum=sum+r\n",
    "    x=x//10;\n",
    "print(sum);\n"
   ]
  },
  {
   "cell_type": "raw",
   "metadata": {},
   "source": []
  },
  {
   "cell_type": "code",
   "execution_count": 1,
   "metadata": {},
   "outputs": [
    {
     "name": "stdout",
     "output_type": "stream",
     "text": [
      "enter number143\n",
      "three\n",
      "four\n",
      "one\n"
     ]
    }
   ],
   "source": [
    "x=int(input(\"enter number\"));\n",
    "r=0;\n",
    "while(x!=0):\n",
    "    r=x%10;\n",
    "    if(r==1):\n",
    "        print(\"one\");\n",
    "    elif(r==2):\n",
    "        print(\"two\");\n",
    "    elif(r==3):\n",
    "         print(\"three\");\n",
    "    elif(r==4):\n",
    "        print(\"four\");\n",
    "    elif(r==5):\n",
    "        print(\"five\");\n",
    "    elif(r==6):\n",
    "         print(\"six\");\n",
    "    elif(r==7):\n",
    "        print(\"seven\");\n",
    "    elif(r==8):\n",
    "        print(\"eight\");\n",
    "    elif(r==9):\n",
    "         print(\"nine\");\n",
    "    else:\n",
    "        print(\"zero\");\n",
    "    x=x//10;\n",
    "\n"
   ]
  },
  {
   "cell_type": "code",
   "execution_count": 12,
   "metadata": {},
   "outputs": [
    {
     "name": "stdout",
     "output_type": "stream",
     "text": [
      "1 2 3 4 5 6 7 8 9 \n",
      "1 2 3 4 5 6 7 8 9 10 11 12 13 14 15 \n"
     ]
    }
   ],
   "source": [
    "def printNMaturalNumbers(n):\n",
    "    cnt= 1;\n",
    "    while(cnt <=n):\n",
    "        print(cnt,end= \" \");\n",
    "        cnt=cnt +1;\n",
    "    print()\n",
    "    return\n",
    "printNMaturalNumbers(9);\n",
    "printNMaturalNumbers(15);\n"
   ]
  },
  {
   "cell_type": "code",
   "execution_count": 15,
   "metadata": {},
   "outputs": [
    {
     "name": "stdout",
     "output_type": "stream",
     "text": [
      "120\n",
      "3628800\n",
      "2432902008176640000\n"
     ]
    }
   ],
   "source": [
    "def findfact(n):\n",
    "    fact = 1;\n",
    "    while(n!=0):\n",
    "        fact=fact*n;\n",
    "        n=n-1;\n",
    "    return fact;\n",
    "\n",
    "print(findfact(5));\n",
    "print(findfact(10));\n",
    "print(findfact(20));"
   ]
  },
  {
   "cell_type": "code",
   "execution_count": null,
   "metadata": {},
   "outputs": [],
   "source": [
    "def countOfpalindromes(n1,n2):\n",
    "    cnt=0;\n",
    "    while n1!=n2:\n",
    "        sum=0;\n",
    "        buffer=n1;\n",
    "    while n1!=0:\n",
    "        r=n1%10;\n",
    "        sum=(sum*10)+r;\n",
    "        n1=n1//10;\n",
    "    if buffer==sum:\n",
    "        count=count+1;\n",
    "    n1=buffeer;\n",
    "    n1=n1+1;\n",
    "    return cnt;\n",
    "print(countOfpalindromes(10,30));\n",
    "print(countOfpalindromes(1,100000));\n",
    "    "
   ]
  },
  {
   "cell_type": "code",
   "execution_count": null,
   "metadata": {},
   "outputs": [],
   "source": []
  }
 ],
 "metadata": {
  "kernelspec": {
   "display_name": "Python 3",
   "language": "python",
   "name": "python3"
  },
  "language_info": {
   "codemirror_mode": {
    "name": "ipython",
    "version": 3
   },
   "file_extension": ".py",
   "mimetype": "text/x-python",
   "name": "python",
   "nbconvert_exporter": "python",
   "pygments_lexer": "ipython3",
   "version": "3.7.3"
  }
 },
 "nbformat": 4,
 "nbformat_minor": 2
}
